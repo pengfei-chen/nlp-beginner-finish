{
 "cells": [
  {
   "cell_type": "code",
   "execution_count": 1,
   "id": "bd798c3c",
   "metadata": {},
   "outputs": [
    {
     "name": "stdout",
     "output_type": "stream",
     "text": [
      "<module 'ntpath' from 'D:\\\\MySoftware\\\\Anaconda3\\\\envs\\\\nlp_with_transformers\\\\lib\\\\ntpath.py'>\n"
     ]
    }
   ],
   "source": [
    "import os\n",
    "print(os.path)"
   ]
  },
  {
   "cell_type": "code",
   "execution_count": 3,
   "id": "80902f97",
   "metadata": {},
   "outputs": [
    {
     "ename": "TypeError",
     "evalue": "abspath() missing 1 required positional argument: 'path'",
     "output_type": "error",
     "traceback": [
      "\u001b[1;31m---------------------------------------------------------------------------\u001b[0m",
      "\u001b[1;31mTypeError\u001b[0m                                 Traceback (most recent call last)",
      "\u001b[1;32m~\\AppData\\Local\\Temp/ipykernel_18060/4242618696.py\u001b[0m in \u001b[0;36m<module>\u001b[1;34m\u001b[0m\n\u001b[1;32m----> 1\u001b[1;33m \u001b[0mos\u001b[0m\u001b[1;33m.\u001b[0m\u001b[0mpath\u001b[0m\u001b[1;33m.\u001b[0m\u001b[0mabspath\u001b[0m\u001b[1;33m(\u001b[0m\u001b[1;33m)\u001b[0m\u001b[1;33m\u001b[0m\u001b[1;33m\u001b[0m\u001b[0m\n\u001b[0m",
      "\u001b[1;31mTypeError\u001b[0m: abspath() missing 1 required positional argument: 'path'"
     ]
    }
   ],
   "source": [
    "os.path.abspath()"
   ]
  },
  {
   "cell_type": "code",
   "execution_count": 5,
   "id": "35f9901c",
   "metadata": {},
   "outputs": [
    {
     "ename": "TypeError",
     "evalue": "dirname() missing 1 required positional argument: 'p'",
     "output_type": "error",
     "traceback": [
      "\u001b[1;31m---------------------------------------------------------------------------\u001b[0m",
      "\u001b[1;31mTypeError\u001b[0m                                 Traceback (most recent call last)",
      "\u001b[1;32m~\\AppData\\Local\\Temp/ipykernel_18060/817417063.py\u001b[0m in \u001b[0;36m<module>\u001b[1;34m\u001b[0m\n\u001b[1;32m----> 1\u001b[1;33m \u001b[0mos\u001b[0m\u001b[1;33m.\u001b[0m\u001b[0mpath\u001b[0m\u001b[1;33m.\u001b[0m\u001b[0mdirname\u001b[0m\u001b[1;33m(\u001b[0m\u001b[1;33m)\u001b[0m\u001b[1;33m\u001b[0m\u001b[1;33m\u001b[0m\u001b[0m\n\u001b[0m",
      "\u001b[1;31mTypeError\u001b[0m: dirname() missing 1 required positional argument: 'p'"
     ]
    }
   ],
   "source": [
    "os.path.dirname()"
   ]
  },
  {
   "cell_type": "code",
   "execution_count": 7,
   "id": "e1621232",
   "metadata": {},
   "outputs": [
    {
     "ename": "TypeError",
     "evalue": "dirname() missing 1 required positional argument: 'p'",
     "output_type": "error",
     "traceback": [
      "\u001b[1;31m---------------------------------------------------------------------------\u001b[0m",
      "\u001b[1;31mTypeError\u001b[0m                                 Traceback (most recent call last)",
      "\u001b[1;32m~\\AppData\\Local\\Temp/ipykernel_18060/817417063.py\u001b[0m in \u001b[0;36m<module>\u001b[1;34m\u001b[0m\n\u001b[1;32m----> 1\u001b[1;33m \u001b[0mos\u001b[0m\u001b[1;33m.\u001b[0m\u001b[0mpath\u001b[0m\u001b[1;33m.\u001b[0m\u001b[0mdirname\u001b[0m\u001b[1;33m(\u001b[0m\u001b[1;33m)\u001b[0m\u001b[1;33m\u001b[0m\u001b[1;33m\u001b[0m\u001b[0m\n\u001b[0m",
      "\u001b[1;31mTypeError\u001b[0m: dirname() missing 1 required positional argument: 'p'"
     ]
    }
   ],
   "source": [
    "os.path.dirname()"
   ]
  },
  {
   "cell_type": "code",
   "execution_count": 10,
   "id": "b90f53a5",
   "metadata": {},
   "outputs": [
    {
     "data": {
      "text/plain": [
       "'d:\\\\MyData'"
      ]
     },
     "execution_count": 10,
     "metadata": {},
     "output_type": "execute_result"
    }
   ],
   "source": [
    "os.path.dirname('d:\\MyData\\chenpf8\\nlp-beginner-finish\\task2')"
   ]
  },
  {
   "cell_type": "code",
   "execution_count": 11,
   "id": "68fd3d70",
   "metadata": {},
   "outputs": [
    {
     "data": {
      "text/plain": [
       "'d:\\\\'"
      ]
     },
     "execution_count": 11,
     "metadata": {},
     "output_type": "execute_result"
    }
   ],
   "source": [
    "os.path.abspath(os.path.dirname(os.path.dirname('d:\\MyData\\chenpf8\\nlp-beginner-finish\\task2')))"
   ]
  },
  {
   "cell_type": "code",
   "execution_count": 23,
   "id": "482f43f2",
   "metadata": {},
   "outputs": [
    {
     "data": {
      "text/plain": [
       "'E:\\\\deeplearning_data\\\\nlp-beginner-finish_data\\\\cnews\\\\cnews.train.txt'"
      ]
     },
     "execution_count": 23,
     "metadata": {},
     "output_type": "execute_result"
    }
   ],
   "source": [
    "base_dir = r'E:\\deeplearning_data\\nlp-beginner-finish_data\\cnews'\n",
    "train_dir = os.path.join(base_dir, 'cnews.train.txt')\n",
    "train_dir"
   ]
  },
  {
   "cell_type": "code",
   "execution_count": 24,
   "id": "3029949a",
   "metadata": {},
   "outputs": [
    {
     "data": {
      "text/plain": [
       "'E:\\\\deeplearning_data\\\\nlp-beginner-finish_data\\\\cnews\\\\cnews.vocab.txt'"
      ]
     },
     "execution_count": 24,
     "metadata": {},
     "output_type": "execute_result"
    }
   ],
   "source": [
    "vocab_dir = os.path.join(base_dir, 'cnews.vocab.txt')\n",
    "vocab_dir"
   ]
  },
  {
   "cell_type": "code",
   "execution_count": 26,
   "id": "ed902709",
   "metadata": {},
   "outputs": [],
   "source": [
    "is_py3 = True\n",
    "\n",
    "def open_file(filename, mode='r'):\n",
    "    \"\"\"\n",
    "    常用文件操作，可在python2和python3间切换.\n",
    "    mode: 'r' or 'w' for read or write\n",
    "    \"\"\"\n",
    "    if is_py3:\n",
    "        return open(filename, mode, encoding='utf-8', errors='ignore')\n",
    "    else:\n",
    "        return open(filename, mode)"
   ]
  },
  {
   "cell_type": "code",
   "execution_count": 28,
   "id": "86783a36",
   "metadata": {},
   "outputs": [],
   "source": [
    "def native_content(content):\n",
    "    if not is_py3:\n",
    "        return content.decode('utf-8')\n",
    "    else:\n",
    "        return content"
   ]
  },
  {
   "cell_type": "code",
   "execution_count": 29,
   "id": "0f7b8831",
   "metadata": {},
   "outputs": [],
   "source": [
    "with open_file(vocab_dir) as fp:\n",
    "    # 如果是py2 则每个值都转化为unicode\n",
    "    words = [native_content(_.strip()) for _ in fp.readlines()]"
   ]
  },
  {
   "cell_type": "code",
   "execution_count": 32,
   "id": "fcb47ca1",
   "metadata": {},
   "outputs": [],
   "source": [
    "from torch import nn\n",
    "nn.LSTM??"
   ]
  },
  {
   "cell_type": "code",
   "execution_count": 34,
   "id": "65847105",
   "metadata": {},
   "outputs": [],
   "source": [
    "import torch\n",
    "torch.cat??"
   ]
  },
  {
   "cell_type": "code",
   "execution_count": 36,
   "id": "2f6a1c31",
   "metadata": {},
   "outputs": [],
   "source": [
    "nn.Conv1d??"
   ]
  },
  {
   "cell_type": "code",
   "execution_count": 37,
   "id": "dec05e78",
   "metadata": {},
   "outputs": [
    {
     "name": "stdout",
     "output_type": "stream",
     "text": [
      "torch.Size([32, 256, 35])\n"
     ]
    }
   ],
   "source": [
    "input_ = torch.randn(32, 35, 256)\n",
    "input_ = input_.permute(0, 2, 1) #32, 256, 35\n",
    "print(input_.shape)"
   ]
  },
  {
   "cell_type": "code",
   "execution_count": 38,
   "id": "88a616d9",
   "metadata": {},
   "outputs": [
    {
     "name": "stdout",
     "output_type": "stream",
     "text": [
      "torch.Size([32, 100, 34])\n"
     ]
    }
   ],
   "source": [
    "conv1 = nn.Conv1d(in_channels=256, out_channels=100, kernel_size=2)\n",
    "input_ = torch.randn(32, 35, 256)\n",
    "input_ = input_.permute(0, 2, 1)  #32, 256, 35\n",
    "# 32 text_len\n",
    "# 256 batch_size?\n",
    "# 35 embedding_size\n",
    "output = conv1(input_)\n",
    "print(output.shape)"
   ]
  },
  {
   "cell_type": "code",
   "execution_count": 40,
   "id": "70bed9f3",
   "metadata": {},
   "outputs": [
    {
     "name": "stdout",
     "output_type": "stream",
     "text": [
      "torch.Size([32, 100, 34])\n"
     ]
    }
   ],
   "source": [
    "conv1 = nn.Conv1d(in_channels=256,out_channels=100,kernel_size=2)\n",
    "input = torch.randn(32,35,256)\n",
    "# batch_size x text_len x embedding_size -> batch_size x embedding_size x text_len\n",
    "input = input.permute(0,2,1)  # #32, 256, 35\n",
    "out = conv1(input)\n",
    "print(out.size())"
   ]
  },
  {
   "cell_type": "markdown",
   "id": "4fbb3ebb",
   "metadata": {},
   "source": [
    "256 * 35    kernel: 2 * 256\n",
    "    \n",
    "理解：每2列走一步，一共有34个结果"
   ]
  },
  {
   "cell_type": "code",
   "execution_count": 41,
   "id": "65824b33",
   "metadata": {},
   "outputs": [
    {
     "data": {
      "text/plain": [
       "tensor([[-0.2130, -0.6893,  0.2296, -0.7448],\n",
       "        [-1.1181,  0.5160,  0.1727,  0.4821],\n",
       "        [-0.6630,  0.1869, -0.1093, -1.2282],\n",
       "        [ 1.0967, -0.1711, -1.4072,  0.4444]])"
      ]
     },
     "execution_count": 41,
     "metadata": {},
     "output_type": "execute_result"
    }
   ],
   "source": [
    "a = torch.randn(4,4)\n",
    "a"
   ]
  },
  {
   "cell_type": "code",
   "execution_count": 43,
   "id": "30d1b959",
   "metadata": {},
   "outputs": [
    {
     "data": {
      "text/plain": [
       "tensor([2, 1, 1, 0])"
      ]
     },
     "execution_count": 43,
     "metadata": {},
     "output_type": "execute_result"
    }
   ],
   "source": [
    "torch.argmax(a,1)"
   ]
  },
  {
   "cell_type": "code",
   "execution_count": 44,
   "id": "fb31c1ba",
   "metadata": {},
   "outputs": [
    {
     "ename": "AttributeError",
     "evalue": "'bool' object has no attribute 'numpy'",
     "output_type": "error",
     "traceback": [
      "\u001b[1;31m---------------------------------------------------------------------------\u001b[0m",
      "\u001b[1;31mAttributeError\u001b[0m                            Traceback (most recent call last)",
      "\u001b[1;32m~\\AppData\\Local\\Temp/ipykernel_18060/2767767421.py\u001b[0m in \u001b[0;36m<module>\u001b[1;34m\u001b[0m\n\u001b[1;32m----> 1\u001b[1;33m \u001b[1;32mTrue\u001b[0m\u001b[1;33m.\u001b[0m\u001b[0mnumpy\u001b[0m\u001b[1;33m(\u001b[0m\u001b[1;33m)\u001b[0m\u001b[1;33m\u001b[0m\u001b[1;33m\u001b[0m\u001b[0m\n\u001b[0m",
      "\u001b[1;31mAttributeError\u001b[0m: 'bool' object has no attribute 'numpy'"
     ]
    }
   ],
   "source": [
    "True.numpy()"
   ]
  },
  {
   "cell_type": "code",
   "execution_count": 46,
   "id": "e3181244",
   "metadata": {},
   "outputs": [
    {
     "data": {
      "text/plain": [
       "0.6"
      ]
     },
     "execution_count": 46,
     "metadata": {},
     "output_type": "execute_result"
    }
   ],
   "source": [
    "import numpy as np\n",
    "np.mean([1,0,0,1,1])"
   ]
  },
  {
   "cell_type": "code",
   "execution_count": null,
   "id": "b14dfb55",
   "metadata": {},
   "outputs": [],
   "source": []
  }
 ],
 "metadata": {
  "kernelspec": {
   "display_name": "Python [conda env:nlp_with_transformers]",
   "language": "python",
   "name": "conda-env-nlp_with_transformers-py"
  },
  "language_info": {
   "codemirror_mode": {
    "name": "ipython",
    "version": 3
   },
   "file_extension": ".py",
   "mimetype": "text/x-python",
   "name": "python",
   "nbconvert_exporter": "python",
   "pygments_lexer": "ipython3",
   "version": "3.8.12"
  }
 },
 "nbformat": 4,
 "nbformat_minor": 5
}
