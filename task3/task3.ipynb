{
 "cells": [
  {
   "cell_type": "code",
   "execution_count": 1,
   "id": "08f429b5",
   "metadata": {},
   "outputs": [],
   "source": [
    "import pandas as pd"
   ]
  },
  {
   "cell_type": "code",
   "execution_count": 2,
   "id": "84de82e1",
   "metadata": {},
   "outputs": [],
   "source": [
    "df = pd.read_csv('atec_nlp_sim_train_all.csv', sep='\\t', names=['sentence1', 'sentence2', 'label'])"
   ]
  },
  {
   "cell_type": "code",
   "execution_count": 3,
   "id": "73b92626",
   "metadata": {},
   "outputs": [
    {
     "data": {
      "text/html": [
       "<div>\n",
       "<style scoped>\n",
       "    .dataframe tbody tr th:only-of-type {\n",
       "        vertical-align: middle;\n",
       "    }\n",
       "\n",
       "    .dataframe tbody tr th {\n",
       "        vertical-align: top;\n",
       "    }\n",
       "\n",
       "    .dataframe thead th {\n",
       "        text-align: right;\n",
       "    }\n",
       "</style>\n",
       "<table border=\"1\" class=\"dataframe\">\n",
       "  <thead>\n",
       "    <tr style=\"text-align: right;\">\n",
       "      <th></th>\n",
       "      <th>sentence1</th>\n",
       "      <th>sentence2</th>\n",
       "      <th>label</th>\n",
       "    </tr>\n",
       "  </thead>\n",
       "  <tbody>\n",
       "    <tr>\n",
       "      <th>10001</th>\n",
       "      <td>花呗提前还了最低还能消费吗</td>\n",
       "      <td>花呗可消费滴滴打车吗</td>\n",
       "      <td>0</td>\n",
       "    </tr>\n",
       "    <tr>\n",
       "      <th>10002</th>\n",
       "      <td>我的花呗收钱额度是多少</td>\n",
       "      <td>我的信誉积分可以开通多少额度的花呗</td>\n",
       "      <td>0</td>\n",
       "    </tr>\n",
       "    <tr>\n",
       "      <th>10003</th>\n",
       "      <td>想取消花呗怎么办</td>\n",
       "      <td>花呗怎么取消订单</td>\n",
       "      <td>0</td>\n",
       "    </tr>\n",
       "    <tr>\n",
       "      <th>10004</th>\n",
       "      <td>是不是有网商贷就没有蚂蚁借呗了</td>\n",
       "      <td>开通网店就不能开通蚂蚁借呗了是吗</td>\n",
       "      <td>0</td>\n",
       "    </tr>\n",
       "    <tr>\n",
       "      <th>10005</th>\n",
       "      <td>怎么抢花呗返现</td>\n",
       "      <td>花呗返现为什么我没有</td>\n",
       "      <td>0</td>\n",
       "    </tr>\n",
       "    <tr>\n",
       "      <th>...</th>\n",
       "      <td>...</td>\n",
       "      <td>...</td>\n",
       "      <td>...</td>\n",
       "    </tr>\n",
       "    <tr>\n",
       "      <th>102473</th>\n",
       "      <td>花呗分期还一期后能用吗</td>\n",
       "      <td>分期是还花呗吗</td>\n",
       "      <td>0</td>\n",
       "    </tr>\n",
       "    <tr>\n",
       "      <th>102474</th>\n",
       "      <td>我的支付宝手机号和花呗手机号不一样怎么办</td>\n",
       "      <td>支付宝上的手机号，怎么和花呗上的不一样</td>\n",
       "      <td>1</td>\n",
       "    </tr>\n",
       "    <tr>\n",
       "      <th>102475</th>\n",
       "      <td>借呗这个月的分期晚几天还可以吗</td>\n",
       "      <td>借呗分期后可以更改分期时间吗</td>\n",
       "      <td>0</td>\n",
       "    </tr>\n",
       "    <tr>\n",
       "      <th>102476</th>\n",
       "      <td>我怎么没有花呗临时额度了</td>\n",
       "      <td>花呗有零时额度吗</td>\n",
       "      <td>0</td>\n",
       "    </tr>\n",
       "    <tr>\n",
       "      <th>102477</th>\n",
       "      <td>怎么授权芝麻信用给花呗</td>\n",
       "      <td>花呗授权联系人怎么授权</td>\n",
       "      <td>0</td>\n",
       "    </tr>\n",
       "  </tbody>\n",
       "</table>\n",
       "<p>92477 rows × 3 columns</p>\n",
       "</div>"
      ],
      "text/plain": [
       "                   sentence1            sentence2  label\n",
       "10001          花呗提前还了最低还能消费吗           花呗可消费滴滴打车吗      0\n",
       "10002            我的花呗收钱额度是多少    我的信誉积分可以开通多少额度的花呗      0\n",
       "10003               想取消花呗怎么办             花呗怎么取消订单      0\n",
       "10004        是不是有网商贷就没有蚂蚁借呗了     开通网店就不能开通蚂蚁借呗了是吗      0\n",
       "10005                怎么抢花呗返现           花呗返现为什么我没有      0\n",
       "...                      ...                  ...    ...\n",
       "102473           花呗分期还一期后能用吗              分期是还花呗吗      0\n",
       "102474  我的支付宝手机号和花呗手机号不一样怎么办  支付宝上的手机号，怎么和花呗上的不一样      1\n",
       "102475       借呗这个月的分期晚几天还可以吗       借呗分期后可以更改分期时间吗      0\n",
       "102476          我怎么没有花呗临时额度了             花呗有零时额度吗      0\n",
       "102477           怎么授权芝麻信用给花呗          花呗授权联系人怎么授权      0\n",
       "\n",
       "[92477 rows x 3 columns]"
      ]
     },
     "execution_count": 3,
     "metadata": {},
     "output_type": "execute_result"
    }
   ],
   "source": [
    "df"
   ]
  },
  {
   "cell_type": "code",
   "execution_count": 4,
   "id": "69ebc10c",
   "metadata": {},
   "outputs": [],
   "source": [
    "import torch"
   ]
  },
  {
   "cell_type": "code",
   "execution_count": 9,
   "id": "e6003b03",
   "metadata": {},
   "outputs": [
    {
     "data": {
      "text/plain": [
       "tensor([[ 0.2045,  0.2980,  0.5252],\n",
       "        [ 0.5044,  1.1901, -0.0723],\n",
       "        [-0.7327, -1.2892,  0.2889]])"
      ]
     },
     "execution_count": 9,
     "metadata": {},
     "output_type": "execute_result"
    }
   ],
   "source": [
    "b = torch.randn(3,3)#得到的是floattensor值，\n",
    "b"
   ]
  },
  {
   "cell_type": "code",
   "execution_count": 10,
   "id": "f9c8d321",
   "metadata": {},
   "outputs": [
    {
     "data": {
      "text/plain": [
       "tensor([[ 0,  0,  0],\n",
       "        [ 0,  1,  0],\n",
       "        [ 0, -1,  0]])"
      ]
     },
     "execution_count": 10,
     "metadata": {},
     "output_type": "execute_result"
    }
   ],
   "source": [
    "b = b.long()#得到的是longtensor值\n",
    "b"
   ]
  },
  {
   "cell_type": "code",
   "execution_count": null,
   "id": "6f6120d5",
   "metadata": {},
   "outputs": [],
   "source": []
  }
 ],
 "metadata": {
  "kernelspec": {
   "display_name": "Python [conda env:nlp_with_transformers]",
   "language": "python",
   "name": "conda-env-nlp_with_transformers-py"
  },
  "language_info": {
   "codemirror_mode": {
    "name": "ipython",
    "version": 3
   },
   "file_extension": ".py",
   "mimetype": "text/x-python",
   "name": "python",
   "nbconvert_exporter": "python",
   "pygments_lexer": "ipython3",
   "version": "3.8.12"
  }
 },
 "nbformat": 4,
 "nbformat_minor": 5
}
